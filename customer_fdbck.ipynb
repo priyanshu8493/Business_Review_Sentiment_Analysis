{
  "nbformat": 4,
  "nbformat_minor": 0,
  "metadata": {
    "colab": {
      "provenance": [],
      "authorship_tag": "ABX9TyNfsB1/LHNlEwB10IaaEph4",
      "include_colab_link": true
    },
    "kernelspec": {
      "name": "python3",
      "display_name": "Python 3"
    },
    "language_info": {
      "name": "python"
    }
  },
  "cells": [
    {
      "cell_type": "markdown",
      "metadata": {
        "id": "view-in-github",
        "colab_type": "text"
      },
      "source": [
        "<a href=\"https://colab.research.google.com/github/priyanshu8493/Business_Review_Sentiment_Analysis/blob/main/customer_fdbck.ipynb\" target=\"_parent\"><img src=\"https://colab.research.google.com/assets/colab-badge.svg\" alt=\"Open In Colab\"/></a>"
      ]
    },
    {
      "cell_type": "code",
      "source": [
        "import numpy as np\n",
        "import csv\n",
        "\n",
        "\n",
        "sentences = [ ]\n",
        "labels = [ ]\n",
        "\n",
        "data_path = '/content/sentiment-analysis.csv'\n",
        "\n",
        "\n",
        "with open (data_path, 'r') as csv_file:\n",
        "  reader = csv.reader(csv_file,delimiter = ',')\n",
        "\n",
        "  for row in reader:\n",
        "\n",
        "    line_str = row[0]   #considering one row as a whole as a string\n",
        "\n",
        "    values = line_str.lower().split(',') # splitting the strings and getting the diff field values\n",
        "\n",
        "    if len(values) > 1:    # filetering empty rows\n",
        "\n",
        "      sentences.append(values[0].strip())\n",
        "      sentiment = values[1].strip()\n",
        "      if sentiment == 'positive':\n",
        "        labels.append(1)\n",
        "      else:\n",
        "        labels.append(0)\n",
        "\n",
        "sentences.pop(0)\n",
        "labels.pop(0)\n",
        "\n",
        "\n",
        "print(len(sentences))\n",
        "print(len(labels))\n"
      ],
      "metadata": {
        "colab": {
          "base_uri": "https://localhost:8080/"
        },
        "id": "qihKkuFePErC",
        "outputId": "afd566d4-4c69-4af7-947c-cfcd694e19cb"
      },
      "execution_count": 187,
      "outputs": [
        {
          "output_type": "stream",
          "name": "stdout",
          "text": [
            "96\n",
            "96\n"
          ]
        }
      ]
    },
    {
      "cell_type": "code",
      "source": [
        "# removing stopwords\n",
        "from bs4 import BeautifulSoup\n",
        "import string\n",
        "\n",
        "\n",
        "table = str.maketrans('', '', string.punctuation)\n",
        "\n",
        "stopwords_path = '/content/stopwords'\n",
        "\n",
        "stopwords = []\n",
        "corpas = []\n",
        "\n",
        "with open(stopwords_path, 'r') as f:\n",
        "  for line in f:\n",
        "    stopwords.append(line.strip())\n",
        "\n",
        "stopwords.append('im')\n",
        "\n",
        "for item in sentences :\n",
        "  item.replace(',', ' , ')\n",
        "  item.replace ('-', ' - ')\n",
        "  item.replace (\"'\", \" ' \")\n",
        "  item.replace ( \"/\", \" / \")\n",
        "\n",
        "  item = item.translate(table)\n",
        "\n",
        "  soup = BeautifulSoup(item)\n",
        "  item = soup.get_text()\n",
        "\n",
        "  if item not in stopwords:\n",
        "    corpas.append(item)\n",
        "print(sentences)\n",
        "print(corpas)\n"
      ],
      "metadata": {
        "colab": {
          "base_uri": "https://localhost:8080/"
        },
        "id": "gKu_mwfQi8pK",
        "outputId": "0c050321-b45a-48c5-bd11-ec7d04e3496d"
      },
      "execution_count": 189,
      "outputs": [
        {
          "output_type": "stream",
          "name": "stdout",
          "text": [
            "['\"i love this product!\"', '\"the service was terrible.\"', '\"this movie is amazing!\"', '\"i\\'m so disappointed with their customer support.\"', '\"just had the best meal of my life!\"', '\"the quality of this product is subpar.\"', '\"i can\\'t stop listening to this song. it\\'s incredible!\"', '\"their website is so user-friendly. love it!\"', '\"i loved the movie! it was fantastic!\"', '\"the customer service was terrible.\"', '\"this book made me feel inspired. highly recommended!\"', '\"i\\'m extremely disappointed with their product quality.\"', '\"just had the most amazing vacation! i can\\'t wait to go back.\"', '\"the food at this restaurant was awful. never going back again!\"', '\"i can\\'t stop listening to this song. it\\'s my new favorite!\"', '\"their website is so confusing and poorly designed.\"', '\"i had an incredible experience at the theme park. so much fun!\"', '\"the product arrived damaged. very disappointed.\"', '\"the concert was absolutely breathtaking. best performance ever!\"', '\"i had a terrible experience with their customer support.\"', '\"this movie is a masterpiece! i was blown away.\"', '\"the customer service at this store is top-notch.\"', '\"i\\'m disappointed with the ending of this book. it fell flat.\"', '\"the product i received was damaged. unacceptable.\"', '\"just had the worst flight experience. delayed and rude staff.\"', '\"the hotel stay was absolutely amazing! luxury at its finest.\"', '\"the food at this restaurant was outstanding. highly recommended!\"', '\"this playlist is my go-to for workouts. energizing and motivating!\"', '\"i had a frustrating experience navigating through their website.\"', '\"the roller coaster ride was thrilling! heart-pounding excitement!\"', '\"the product i ordered never arrived. terrible service.\"', '\"i can\\'t get enough of this band. their music is incredible!\"', '\"i had a great chat with their customer support. helpful and friendly.\"', '\"this restaurant has the most delicious food. i can\\'t wait to go back!\"', '\"the product i purchased broke within a week. poor quality.\"', '\"this book is thought-provoking and beautifully written. highly recommended!\"', '\"the customer service at this store is exceptional. they went above and beyond.\"', '\"i had a terrible experience with their technical support. no resolution.\"', '\"the live concert was electrifying! the band\\'s energy was contagious.\"', '\"i\\'m disappointed with the food at this restaurant. it was tasteless.\"', '\"this song always puts me in a good mood. it\\'s my go-to feel-good track!\"', '\"the website is slow and unresponsive. difficult to navigate.\"', '\"the roller coaster ride was exhilarating! pure adrenaline rush!\"', '\"the product i ordered arrived damaged. very disappointed with the packaging.\"', '\"i\\'m captivated by this band\\'s unique sound. they\\'re a breath of fresh air!\"', '\"the customer support was quick to respond and resolved my issue. impressed!\"', '\"this restaurant has the best food. i highly recommend it!\"', '\"the plot of this movie is confusing and hard to follow.\"', '\"i\\'m addicted to this game. it\\'s so much fun!\"', '\"the customer service at this hotel was terrible. avoid at all costs.\"', '\"this book bored me to tears. i couldn\\'t finish it.\"', '\"i\\'m impressed with the sound quality of these headphones. excellent!\"', '\"the website design is sleek and user-friendly. easy to navigate.\"', '\"i had a terrible experience with their delivery service. late and unprofessional.\"', '\"the concert was mind-blowing! the band knows how to put on a show.\"', '\"i\\'m extremely disappointed with the customer support. no resolution.\"', '\"the hotel staff were rude and unprofessional. terrible customer service.\"', '\"the food at this restaurant was mediocre. nothing special.\"', '\"this song always puts me in a nostalgic mood. it reminds me of good times.\"', '\"the website loading speed is frustratingly slow. needs improvement.\"', '\"the food at this cafe exceeded my expectations. absolutely delicious!\"', '\"i\\'m disappointed with the ending of this tv show. it left too many unanswered questions.\"', '\"this album is a masterpiece. every song is a work of art!\"', '\"the website layout is cluttered and confusing. difficult to find information.\"', '\"the roller coaster at this theme park is a thrilling experience. a must-try!\"', '\"the product i ordered never arrived. poor customer service.\"', '\"i\\'m in awe of this artist\\'s talent. their paintings are breathtaking!\"', '\"the food at this restaurant was disappointing. not worth the price.\"', '\"this playlist is perfect for relaxation. soothing and calming!\"', '\"the website navigation is smooth and intuitive. i found what i needed quickly.\"', '\"the ride on this cruise ship was an unforgettable experience. i loved every moment!\"', '\"the product i received was of poor quality. it broke after a few uses.\"', '\"this book kept me hooked from start to finish. a captivating read!\"', '\"the customer service at this store is outstanding. they truly care about their customers.\"', '\"i had a frustrating experience with their technical support. no resolution provided.\"', '\"the hotel staff were rude and unprofessional. terrible customer service.\"', '\"the food at this restaurant was mediocre. nothing special.\"', '\"this song always puts me in a nostalgic mood. it reminds me of good times.\"', '\"the website loading speed is frustratingly slow. needs improvement.\"', '\"i love this product!\"', '\"the service was terrible.\"', '\"this movie is amazing!\"', '\"i\\'m so disappointed with their customer support.\"', '\"just had the best meal of my life!\"', '\"the quality of this product is subpar.\"', '\"i can\\'t stop listening to this song. it\\'s incredible!\"', '\"their website is so user-friendly. love it!\"', '\"i loved the movie! it was fantastic!\"', '\"the customer service was terrible.\"', '\"this book made me feel inspired. highly recommended!\"', '\"i\\'m extremely disappointed with their product quality.\"', '\"just had the most amazing vacation! i can\\'t wait to go back.\"', '\"the food at this restaurant was awful. never going back again!\"', '\"i can\\'t stop listening to this song. it\\'s my new favorite!\"', '\"their website is so confusing and poorly designed.\"', '\"i had an incredible experience at the theme park. so much fun!\"']\n",
            "['i love this product', 'the service was terrible', 'this movie is amazing', 'im so disappointed with their customer support', 'just had the best meal of my life', 'the quality of this product is subpar', 'i cant stop listening to this song its incredible', 'their website is so userfriendly love it', 'i loved the movie it was fantastic', 'the customer service was terrible', 'this book made me feel inspired highly recommended', 'im extremely disappointed with their product quality', 'just had the most amazing vacation i cant wait to go back', 'the food at this restaurant was awful never going back again', 'i cant stop listening to this song its my new favorite', 'their website is so confusing and poorly designed', 'i had an incredible experience at the theme park so much fun', 'the product arrived damaged very disappointed', 'the concert was absolutely breathtaking best performance ever', 'i had a terrible experience with their customer support', 'this movie is a masterpiece i was blown away', 'the customer service at this store is topnotch', 'im disappointed with the ending of this book it fell flat', 'the product i received was damaged unacceptable', 'just had the worst flight experience delayed and rude staff', 'the hotel stay was absolutely amazing luxury at its finest', 'the food at this restaurant was outstanding highly recommended', 'this playlist is my goto for workouts energizing and motivating', 'i had a frustrating experience navigating through their website', 'the roller coaster ride was thrilling heartpounding excitement', 'the product i ordered never arrived terrible service', 'i cant get enough of this band their music is incredible', 'i had a great chat with their customer support helpful and friendly', 'this restaurant has the most delicious food i cant wait to go back', 'the product i purchased broke within a week poor quality', 'this book is thoughtprovoking and beautifully written highly recommended', 'the customer service at this store is exceptional they went above and beyond', 'i had a terrible experience with their technical support no resolution', 'the live concert was electrifying the bands energy was contagious', 'im disappointed with the food at this restaurant it was tasteless', 'this song always puts me in a good mood its my goto feelgood track', 'the website is slow and unresponsive difficult to navigate', 'the roller coaster ride was exhilarating pure adrenaline rush', 'the product i ordered arrived damaged very disappointed with the packaging', 'im captivated by this bands unique sound theyre a breath of fresh air', 'the customer support was quick to respond and resolved my issue impressed', 'this restaurant has the best food i highly recommend it', 'the plot of this movie is confusing and hard to follow', 'im addicted to this game its so much fun', 'the customer service at this hotel was terrible avoid at all costs', 'this book bored me to tears i couldnt finish it', 'im impressed with the sound quality of these headphones excellent', 'the website design is sleek and userfriendly easy to navigate', 'i had a terrible experience with their delivery service late and unprofessional', 'the concert was mindblowing the band knows how to put on a show', 'im extremely disappointed with the customer support no resolution', 'the hotel staff were rude and unprofessional terrible customer service', 'the food at this restaurant was mediocre nothing special', 'this song always puts me in a nostalgic mood it reminds me of good times', 'the website loading speed is frustratingly slow needs improvement', 'the food at this cafe exceeded my expectations absolutely delicious', 'im disappointed with the ending of this tv show it left too many unanswered questions', 'this album is a masterpiece every song is a work of art', 'the website layout is cluttered and confusing difficult to find information', 'the roller coaster at this theme park is a thrilling experience a musttry', 'the product i ordered never arrived poor customer service', 'im in awe of this artists talent their paintings are breathtaking', 'the food at this restaurant was disappointing not worth the price', 'this playlist is perfect for relaxation soothing and calming', 'the website navigation is smooth and intuitive i found what i needed quickly', 'the ride on this cruise ship was an unforgettable experience i loved every moment', 'the product i received was of poor quality it broke after a few uses', 'this book kept me hooked from start to finish a captivating read', 'the customer service at this store is outstanding they truly care about their customers', 'i had a frustrating experience with their technical support no resolution provided', 'the hotel staff were rude and unprofessional terrible customer service', 'the food at this restaurant was mediocre nothing special', 'this song always puts me in a nostalgic mood it reminds me of good times', 'the website loading speed is frustratingly slow needs improvement', 'i love this product', 'the service was terrible', 'this movie is amazing', 'im so disappointed with their customer support', 'just had the best meal of my life', 'the quality of this product is subpar', 'i cant stop listening to this song its incredible', 'their website is so userfriendly love it', 'i loved the movie it was fantastic', 'the customer service was terrible', 'this book made me feel inspired highly recommended', 'im extremely disappointed with their product quality', 'just had the most amazing vacation i cant wait to go back', 'the food at this restaurant was awful never going back again', 'i cant stop listening to this song its my new favorite', 'their website is so confusing and poorly designed', 'i had an incredible experience at the theme park so much fun']\n"
          ]
        }
      ]
    },
    {
      "cell_type": "code",
      "source": [
        "# Tokenizing the corpas\n",
        "\n",
        "from tensorflow.keras.preprocessing.text import Tokenizer\n",
        "\n",
        "vocab_size = 10000\n",
        "\n",
        "tokenizer = Tokenizer(num_words = vocab_size, oov_token = \"<OOV>\")\n",
        "tokenizer.fit_on_texts(corpas)\n",
        "\n",
        "word_index = tokenizer.word_index\n",
        "print(word_index)"
      ],
      "metadata": {
        "colab": {
          "base_uri": "https://localhost:8080/"
        },
        "id": "MIHVl3KVlOgx",
        "outputId": "82a4b808-89c1-4312-8d63-0a8793af1a2d"
      },
      "execution_count": 190,
      "outputs": [
        {
          "output_type": "stream",
          "name": "stdout",
          "text": [
            "{'<OOV>': 1, 'the': 2, 'this': 3, 'i': 4, 'was': 5, 'is': 6, 'a': 7, 'their': 8, 'at': 9, 'and': 10, 'to': 11, 'with': 12, 'customer': 13, 'of': 14, 'product': 15, 'service': 16, 'had': 17, 'im': 18, 'it': 19, 'terrible': 20, 'website': 21, 'disappointed': 22, 'food': 23, 'experience': 24, 'so': 25, 'me': 26, 'restaurant': 27, 'support': 28, 'my': 29, 'cant': 30, 'song': 31, 'quality': 32, 'its': 33, 'movie': 34, 'book': 35, 'amazing': 36, 'just': 37, 'incredible': 38, 'highly': 39, 'back': 40, 'love': 41, 'best': 42, 'stop': 43, 'listening': 44, 'recommended': 45, 'never': 46, 'confusing': 47, 'arrived': 48, 'hotel': 49, 'in': 50, 'userfriendly': 51, 'loved': 52, 'extremely': 53, 'most': 54, 'wait': 55, 'go': 56, 'an': 57, 'theme': 58, 'park': 59, 'much': 60, 'fun': 61, 'damaged': 62, 'concert': 63, 'absolutely': 64, 'store': 65, 'rude': 66, 'staff': 67, 'roller': 68, 'coaster': 69, 'ride': 70, 'ordered': 71, 'poor': 72, 'no': 73, 'resolution': 74, 'always': 75, 'puts': 76, 'good': 77, 'mood': 78, 'slow': 79, 'unprofessional': 80, 'meal': 81, 'life': 82, 'subpar': 83, 'fantastic': 84, 'made': 85, 'feel': 86, 'inspired': 87, 'vacation': 88, 'awful': 89, 'going': 90, 'again': 91, 'new': 92, 'favorite': 93, 'poorly': 94, 'designed': 95, 'very': 96, 'breathtaking': 97, 'masterpiece': 98, 'ending': 99, 'received': 100, 'outstanding': 101, 'playlist': 102, 'goto': 103, 'for': 104, 'frustrating': 105, 'thrilling': 106, 'band': 107, 'has': 108, 'delicious': 109, 'broke': 110, 'they': 111, 'technical': 112, 'bands': 113, 'difficult': 114, 'navigate': 115, 'sound': 116, 'impressed': 117, 'finish': 118, 'on': 119, 'show': 120, 'were': 121, 'mediocre': 122, 'nothing': 123, 'special': 124, 'nostalgic': 125, 'reminds': 126, 'times': 127, 'loading': 128, 'speed': 129, 'frustratingly': 130, 'needs': 131, 'improvement': 132, 'every': 133, 'performance': 134, 'ever': 135, 'blown': 136, 'away': 137, 'topnotch': 138, 'fell': 139, 'flat': 140, 'unacceptable': 141, 'worst': 142, 'flight': 143, 'delayed': 144, 'stay': 145, 'luxury': 146, 'finest': 147, 'workouts': 148, 'energizing': 149, 'motivating': 150, 'navigating': 151, 'through': 152, 'heartpounding': 153, 'excitement': 154, 'get': 155, 'enough': 156, 'music': 157, 'great': 158, 'chat': 159, 'helpful': 160, 'friendly': 161, 'purchased': 162, 'within': 163, 'week': 164, 'thoughtprovoking': 165, 'beautifully': 166, 'written': 167, 'exceptional': 168, 'went': 169, 'above': 170, 'beyond': 171, 'live': 172, 'electrifying': 173, 'energy': 174, 'contagious': 175, 'tasteless': 176, 'feelgood': 177, 'track': 178, 'unresponsive': 179, 'exhilarating': 180, 'pure': 181, 'adrenaline': 182, 'rush': 183, 'packaging': 184, 'captivated': 185, 'by': 186, 'unique': 187, 'theyre': 188, 'breath': 189, 'fresh': 190, 'air': 191, 'quick': 192, 'respond': 193, 'resolved': 194, 'issue': 195, 'recommend': 196, 'plot': 197, 'hard': 198, 'follow': 199, 'addicted': 200, 'game': 201, 'avoid': 202, 'all': 203, 'costs': 204, 'bored': 205, 'tears': 206, 'couldnt': 207, 'these': 208, 'headphones': 209, 'excellent': 210, 'design': 211, 'sleek': 212, 'easy': 213, 'delivery': 214, 'late': 215, 'mindblowing': 216, 'knows': 217, 'how': 218, 'put': 219, 'cafe': 220, 'exceeded': 221, 'expectations': 222, 'tv': 223, 'left': 224, 'too': 225, 'many': 226, 'unanswered': 227, 'questions': 228, 'album': 229, 'work': 230, 'art': 231, 'layout': 232, 'cluttered': 233, 'find': 234, 'information': 235, 'musttry': 236, 'awe': 237, 'artists': 238, 'talent': 239, 'paintings': 240, 'are': 241, 'disappointing': 242, 'not': 243, 'worth': 244, 'price': 245, 'perfect': 246, 'relaxation': 247, 'soothing': 248, 'calming': 249, 'navigation': 250, 'smooth': 251, 'intuitive': 252, 'found': 253, 'what': 254, 'needed': 255, 'quickly': 256, 'cruise': 257, 'ship': 258, 'unforgettable': 259, 'moment': 260, 'after': 261, 'few': 262, 'uses': 263, 'kept': 264, 'hooked': 265, 'from': 266, 'start': 267, 'captivating': 268, 'read': 269, 'truly': 270, 'care': 271, 'about': 272, 'customers': 273, 'provided': 274}\n"
          ]
        }
      ]
    },
    {
      "cell_type": "code",
      "source": [
        "wc = tokenizer.word_counts\n",
        "from collections import OrderedDict\n",
        "import matplotlib.pyplot as plt\n",
        "\n",
        "\n",
        "des_wc = OrderedDict((\n",
        "    sorted( wc.items(), key = lambda x : x[1], reverse = True)\n",
        "    ))\n",
        "\n",
        "des_wc\n",
        "\n",
        "xs = []\n",
        "ys = []\n",
        "\n",
        "curr_x = 1\n",
        "\n",
        "for i in des_wc:\n",
        "  xs.append(curr_x)\n",
        "  ys.append(des_wc[i])\n",
        "  curr_x +=1\n",
        "\n",
        "plt.plot(xs,ys)\n",
        "plt.grid()\n",
        "plt.axis([200,250, 0,10])\n",
        "\n",
        "plt.show()\n",
        "print(len(xs))\n"
      ],
      "metadata": {
        "colab": {
          "base_uri": "https://localhost:8080/",
          "height": 452
        },
        "id": "xcbdP3vvmF3o",
        "outputId": "82992a80-9b5b-48fc-c23c-1e9d57679ba7"
      },
      "execution_count": 191,
      "outputs": [
        {
          "output_type": "display_data",
          "data": {
            "text/plain": [
              "<Figure size 640x480 with 1 Axes>"
            ],
            "image/png": "[encoded data removed]"
          },
          "metadata": {}
        },
        {
          "output_type": "stream",
          "name": "stdout",
          "text": [
            "273\n"
          ]
        }
      ]
    },
    {
      "cell_type": "code",
      "source": [
        "import tensorflow as tf\n",
        "\n",
        "\n",
        "model = tf.keras.Sequential([\n",
        "    tf.keras.layers.Embedding( vocab_size, 7 ),\n",
        "    tf.keras.layers.Bidirectional(tf.keras.layers.LSTM(7, return_sequences = True, dropout = 0.2 )),\n",
        "    tf.keras.layers.Bidirectional(tf.keras.layers.LSTM(7, dropout = 0.2 )),\n",
        "    tf.keras.layers.Dropout(0.2),\n",
        "    tf.keras.layers.Dense(18, activation = 'relu', kernel_regularizer = tf.keras.regularizers.l2(0.001)),\n",
        "    tf.keras.layers.Dense(1, activation = 'sigmoid')\n",
        "])\n",
        "\n",
        "model.compile(loss = 'binary_crossentropy', optimizer = 'adam', metrics = ['accuracy'])\n"
      ],
      "metadata": {
        "id": "BZpNqxZTpl58"
      },
      "execution_count": 206,
      "outputs": []
    },
    {
      "cell_type": "code",
      "source": [],
      "metadata": {
        "colab": {
          "base_uri": "https://localhost:8080/"
        },
        "id": "5R2_TCUgqnqw",
        "outputId": "d7f86bff-b665-461b-df3e-8599640f5fb8"
      },
      "execution_count": 165,
      "outputs": [
        {
          "output_type": "stream",
          "name": "stdout",
          "text": [
            "87\n"
          ]
        }
      ]
    },
    {
      "cell_type": "code",
      "source": [
        "import numpy as np\n",
        "import tensorflow as np\n",
        "\n",
        "\n",
        "max_len = 87\n",
        "\n",
        "corpas_sequence = tokenizer.texts_to_sequences(corpas)\n",
        "\n",
        "padded_corpas_sequence = pad_sequences( corpas_sequence , maxlen = max_len, padding = 'post')\n",
        "\n",
        "print(padded_corpas_sequence[0])\n",
        "\n",
        "\n",
        "\n",
        "\n",
        "\n",
        "\n",
        "\n"
      ],
      "metadata": {
        "colab": {
          "base_uri": "https://localhost:8080/"
        },
        "id": "uSsXNNQHnxIF",
        "outputId": "ca331304-b54b-4806-fdd9-6d57da3be152"
      },
      "execution_count": 193,
      "outputs": [
        {
          "output_type": "stream",
          "name": "stdout",
          "text": [
            "[ 4 41  3 15  0  0  0  0  0  0  0  0  0  0  0  0  0  0  0  0  0  0  0  0\n",
            "  0  0  0  0  0  0  0  0  0  0  0  0  0  0  0  0  0  0  0  0  0  0  0  0\n",
            "  0  0  0  0  0  0  0  0  0  0  0  0  0  0  0  0  0  0  0  0  0  0  0  0\n",
            "  0  0  0  0  0  0  0  0  0  0  0  0  0  0  0]\n"
          ]
        }
      ]
    },
    {
      "cell_type": "code",
      "source": [
        "import numpy as np\n",
        "\n",
        "training_feature = np.array(padded_corpas_sequence)\n",
        "training_labels = np.array(labels)\n",
        "\n",
        "\n",
        "print(training_feature)\n",
        "print(training_labels)\n"
      ],
      "metadata": {
        "colab": {
          "base_uri": "https://localhost:8080/"
        },
        "id": "BlycrCMwsF5i",
        "outputId": "4d6fc142-a311-4f04-a055-bfaba6140d5c"
      },
      "execution_count": 194,
      "outputs": [
        {
          "output_type": "stream",
          "name": "stdout",
          "text": [
            "[[ 4 41  3 ...  0  0  0]\n",
            " [ 2 16  5 ...  0  0  0]\n",
            " [ 3 34  6 ...  0  0  0]\n",
            " ...\n",
            " [ 4 30 43 ...  0  0  0]\n",
            " [ 8 21  6 ...  0  0  0]\n",
            " [ 4 17 57 ...  0  0  0]]\n",
            "[1 0 1 0 1 0 1 1 1 0 1 0 1 0 1 0 1 0 1 0 1 1 0 0 0 1 1 1 0 1 0 1 1 1 0 1 1\n",
            " 0 1 0 1 0 1 0 1 1 1 0 1 0 0 1 1 0 1 0 0 0 1 0 1 0 1 0 1 0 1 0 1 1 1 0 1 1\n",
            " 0 0 0 1 0 1 0 1 0 1 0 1 1 1 0 1 0 1 0 1 0 1]\n"
          ]
        }
      ]
    },
    {
      "cell_type": "code",
      "source": [
        "model.fit(training_feature, training_labels, epochs = 50)"
      ],
      "metadata": {
        "colab": {
          "base_uri": "https://localhost:8080/"
        },
        "id": "h4MzhYj3sZw-",
        "outputId": "9fef3861-40f5-4ed5-ec03-749f3e82822d"
      },
      "execution_count": 207,
      "outputs": [
        {
          "output_type": "stream",
          "name": "stdout",
          "text": [
            "Epoch 1/50\n",
            "\u001b[1m3/3\u001b[0m \u001b[32m━━━━━━━━━━━━━━━━━━━━\u001b[0m\u001b[37m\u001b[0m \u001b[1m7s\u001b[0m 68ms/step - accuracy: 0.4622 - loss: 0.7088\n",
            "Epoch 2/50\n",
            "\u001b[1m3/3\u001b[0m \u001b[32m━━━━━━━━━━━━━━━━━━━━\u001b[0m\u001b[37m\u001b[0m \u001b[1m0s\u001b[0m 70ms/step - accuracy: 0.5586 - loss: 0.7081\n",
            "Epoch 3/50\n",
            "\u001b[1m3/3\u001b[0m \u001b[32m━━━━━━━━━━━━━━━━━━━━\u001b[0m\u001b[37m\u001b[0m \u001b[1m0s\u001b[0m 70ms/step - accuracy: 0.5482 - loss: 0.7074\n",
            "Epoch 4/50\n",
            "\u001b[1m3/3\u001b[0m \u001b[32m━━━━━━━━━━━━━━━━━━━━\u001b[0m\u001b[37m\u001b[0m \u001b[1m0s\u001b[0m 70ms/step - accuracy: 0.5378 - loss: 0.7055\n",
            "Epoch 5/50\n",
            "\u001b[1m3/3\u001b[0m \u001b[32m━━━━━━━━━━━━━━━━━━━━\u001b[0m\u001b[37m\u001b[0m \u001b[1m0s\u001b[0m 82ms/step - accuracy: 0.5898 - loss: 0.7046\n",
            "Epoch 6/50\n",
            "\u001b[1m3/3\u001b[0m \u001b[32m━━━━━━━━━━━━━━━━━━━━\u001b[0m\u001b[37m\u001b[0m \u001b[1m0s\u001b[0m 72ms/step - accuracy: 0.5885 - loss: 0.7039\n",
            "Epoch 7/50\n",
            "\u001b[1m3/3\u001b[0m \u001b[32m━━━━━━━━━━━━━━━━━━━━\u001b[0m\u001b[37m\u001b[0m \u001b[1m0s\u001b[0m 71ms/step - accuracy: 0.5234 - loss: 0.7040\n",
            "Epoch 8/50\n",
            "\u001b[1m3/3\u001b[0m \u001b[32m━━━━━━━━━━━━━━━━━━━━\u001b[0m\u001b[37m\u001b[0m \u001b[1m0s\u001b[0m 69ms/step - accuracy: 0.5456 - loss: 0.7028\n",
            "Epoch 9/50\n",
            "\u001b[1m3/3\u001b[0m \u001b[32m━━━━━━━━━━━━━━━━━━━━\u001b[0m\u001b[37m\u001b[0m \u001b[1m0s\u001b[0m 100ms/step - accuracy: 0.5898 - loss: 0.7010\n",
            "Epoch 10/50\n",
            "\u001b[1m3/3\u001b[0m \u001b[32m━━━━━━━━━━━━━━━━━━━━\u001b[0m\u001b[37m\u001b[0m \u001b[1m1s\u001b[0m 127ms/step - accuracy: 0.5221 - loss: 0.7033\n",
            "Epoch 11/50\n",
            "\u001b[1m3/3\u001b[0m \u001b[32m━━━━━━━━━━━━━━━━━━━━\u001b[0m\u001b[37m\u001b[0m \u001b[1m1s\u001b[0m 129ms/step - accuracy: 0.5664 - loss: 0.6994\n",
            "Epoch 12/50\n",
            "\u001b[1m3/3\u001b[0m \u001b[32m━━━━━━━━━━━━━━━━━━━━\u001b[0m\u001b[37m\u001b[0m \u001b[1m1s\u001b[0m 126ms/step - accuracy: 0.5586 - loss: 0.6988\n",
            "Epoch 13/50\n",
            "\u001b[1m3/3\u001b[0m \u001b[32m━━━━━━━━━━━━━━━━━━━━\u001b[0m\u001b[37m\u001b[0m \u001b[1m0s\u001b[0m 128ms/step - accuracy: 0.5664 - loss: 0.6935\n",
            "Epoch 14/50\n",
            "\u001b[1m3/3\u001b[0m \u001b[32m━━━━━━━━━━━━━━━━━━━━\u001b[0m\u001b[37m\u001b[0m \u001b[1m1s\u001b[0m 79ms/step - accuracy: 0.5651 - loss: 0.6952\n",
            "Epoch 15/50\n",
            "\u001b[1m3/3\u001b[0m \u001b[32m━━━━━━━━━━━━━━━━━━━━\u001b[0m\u001b[37m\u001b[0m \u001b[1m0s\u001b[0m 72ms/step - accuracy: 0.6914 - loss: 0.6868\n",
            "Epoch 16/50\n",
            "\u001b[1m3/3\u001b[0m \u001b[32m━━━━━━━━━━━━━━━━━━━━\u001b[0m\u001b[37m\u001b[0m \u001b[1m0s\u001b[0m 68ms/step - accuracy: 0.6771 - loss: 0.6833\n",
            "Epoch 17/50\n",
            "\u001b[1m3/3\u001b[0m \u001b[32m━━━━━━━━━━━━━━━━━━━━\u001b[0m\u001b[37m\u001b[0m \u001b[1m0s\u001b[0m 75ms/step - accuracy: 0.7448 - loss: 0.6790\n",
            "Epoch 18/50\n",
            "\u001b[1m3/3\u001b[0m \u001b[32m━━━━━━━━━━━━━━━━━━━━\u001b[0m\u001b[37m\u001b[0m \u001b[1m0s\u001b[0m 70ms/step - accuracy: 0.8047 - loss: 0.6696\n",
            "Epoch 19/50\n",
            "\u001b[1m3/3\u001b[0m \u001b[32m━━━━━━━━━━━━━━━━━━━━\u001b[0m\u001b[37m\u001b[0m \u001b[1m0s\u001b[0m 112ms/step - accuracy: 0.7773 - loss: 0.6644\n",
            "Epoch 20/50\n",
            "\u001b[1m3/3\u001b[0m \u001b[32m━━━━━━━━━━━━━━━━━━━━\u001b[0m\u001b[37m\u001b[0m \u001b[1m1s\u001b[0m 74ms/step - accuracy: 0.7917 - loss: 0.6654\n",
            "Epoch 21/50\n",
            "\u001b[1m3/3\u001b[0m \u001b[32m━━━━━━━━━━━━━━━━━━━━\u001b[0m\u001b[37m\u001b[0m \u001b[1m0s\u001b[0m 136ms/step - accuracy: 0.8294 - loss: 0.6487\n",
            "Epoch 22/50\n",
            "\u001b[1m3/3\u001b[0m \u001b[32m━━━━━━━━━━━━━━━━━━━━\u001b[0m\u001b[37m\u001b[0m \u001b[1m1s\u001b[0m 92ms/step - accuracy: 0.8620 - loss: 0.6371\n",
            "Epoch 23/50\n",
            "\u001b[1m3/3\u001b[0m \u001b[32m━━━━━━━━━━━━━━━━━━━━\u001b[0m\u001b[37m\u001b[0m \u001b[1m0s\u001b[0m 74ms/step - accuracy: 0.8529 - loss: 0.6186\n",
            "Epoch 24/50\n",
            "\u001b[1m3/3\u001b[0m \u001b[32m━━━━━━━━━━━━━━━━━━━━\u001b[0m\u001b[37m\u001b[0m \u001b[1m0s\u001b[0m 86ms/step - accuracy: 0.8307 - loss: 0.6203\n",
            "Epoch 25/50\n",
            "\u001b[1m3/3\u001b[0m \u001b[32m━━━━━━━━━━━━━━━━━━━━\u001b[0m\u001b[37m\u001b[0m \u001b[1m0s\u001b[0m 78ms/step - accuracy: 0.8438 - loss: 0.5891\n",
            "Epoch 26/50\n",
            "\u001b[1m3/3\u001b[0m \u001b[32m━━━━━━━━━━━━━━━━━━━━\u001b[0m\u001b[37m\u001b[0m \u001b[1m0s\u001b[0m 70ms/step - accuracy: 0.8763 - loss: 0.5617\n",
            "Epoch 27/50\n",
            "\u001b[1m3/3\u001b[0m \u001b[32m━━━━━━━━━━━━━━━━━━━━\u001b[0m\u001b[37m\u001b[0m \u001b[1m0s\u001b[0m 72ms/step - accuracy: 0.9232 - loss: 0.5263\n",
            "Epoch 28/50\n",
            "\u001b[1m3/3\u001b[0m \u001b[32m━━━━━━━━━━━━━━━━━━━━\u001b[0m\u001b[37m\u001b[0m \u001b[1m0s\u001b[0m 71ms/step - accuracy: 0.9219 - loss: 0.4784\n",
            "Epoch 29/50\n",
            "\u001b[1m3/3\u001b[0m \u001b[32m━━━━━━━━━━━━━━━━━━━━\u001b[0m\u001b[37m\u001b[0m \u001b[1m0s\u001b[0m 85ms/step - accuracy: 0.9518 - loss: 0.4476\n",
            "Epoch 30/50\n",
            "\u001b[1m3/3\u001b[0m \u001b[32m━━━━━━━━━━━━━━━━━━━━\u001b[0m\u001b[37m\u001b[0m \u001b[1m0s\u001b[0m 73ms/step - accuracy: 0.9258 - loss: 0.4274\n",
            "Epoch 31/50\n",
            "\u001b[1m3/3\u001b[0m \u001b[32m━━━━━━━━━━━━━━━━━━━━\u001b[0m\u001b[37m\u001b[0m \u001b[1m0s\u001b[0m 83ms/step - accuracy: 0.9596 - loss: 0.3739\n",
            "Epoch 32/50\n",
            "\u001b[1m3/3\u001b[0m \u001b[32m━━━━━━━━━━━━━━━━━━━━\u001b[0m\u001b[37m\u001b[0m \u001b[1m0s\u001b[0m 81ms/step - accuracy: 0.9479 - loss: 0.3574\n",
            "Epoch 33/50\n",
            "\u001b[1m3/3\u001b[0m \u001b[32m━━━━━━━━━━━━━━━━━━━━\u001b[0m\u001b[37m\u001b[0m \u001b[1m0s\u001b[0m 69ms/step - accuracy: 0.9609 - loss: 0.3029\n",
            "Epoch 34/50\n",
            "\u001b[1m3/3\u001b[0m \u001b[32m━━━━━━━━━━━━━━━━━━━━\u001b[0m\u001b[37m\u001b[0m \u001b[1m0s\u001b[0m 72ms/step - accuracy: 0.9440 - loss: 0.2894\n",
            "Epoch 35/50\n",
            "\u001b[1m3/3\u001b[0m \u001b[32m━━━━━━━━━━━━━━━━━━━━\u001b[0m\u001b[37m\u001b[0m \u001b[1m0s\u001b[0m 78ms/step - accuracy: 0.9740 - loss: 0.2436\n",
            "Epoch 36/50\n",
            "\u001b[1m3/3\u001b[0m \u001b[32m━━━━━━━━━━━━━━━━━━━━\u001b[0m\u001b[37m\u001b[0m \u001b[1m0s\u001b[0m 78ms/step - accuracy: 0.9740 - loss: 0.1906\n",
            "Epoch 37/50\n",
            "\u001b[1m3/3\u001b[0m \u001b[32m━━━━━━━━━━━━━━━━━━━━\u001b[0m\u001b[37m\u001b[0m \u001b[1m0s\u001b[0m 71ms/step - accuracy: 0.9818 - loss: 0.1727\n",
            "Epoch 38/50\n",
            "\u001b[1m3/3\u001b[0m \u001b[32m━━━━━━━━━━━━━━━━━━━━\u001b[0m\u001b[37m\u001b[0m \u001b[1m0s\u001b[0m 75ms/step - accuracy: 0.9661 - loss: 0.1756\n",
            "Epoch 39/50\n",
            "\u001b[1m3/3\u001b[0m \u001b[32m━━━━━━━━━━━━━━━━━━━━\u001b[0m\u001b[37m\u001b[0m \u001b[1m0s\u001b[0m 71ms/step - accuracy: 0.9896 - loss: 0.1127\n",
            "Epoch 40/50\n",
            "\u001b[1m3/3\u001b[0m \u001b[32m━━━━━━━━━━━━━━━━━━━━\u001b[0m\u001b[37m\u001b[0m \u001b[1m0s\u001b[0m 74ms/step - accuracy: 0.9948 - loss: 0.1129\n",
            "Epoch 41/50\n",
            "\u001b[1m3/3\u001b[0m \u001b[32m━━━━━━━━━━━━━━━━━━━━\u001b[0m\u001b[37m\u001b[0m \u001b[1m0s\u001b[0m 69ms/step - accuracy: 0.9648 - loss: 0.1431\n",
            "Epoch 42/50\n",
            "\u001b[1m3/3\u001b[0m \u001b[32m━━━━━━━━━━━━━━━━━━━━\u001b[0m\u001b[37m\u001b[0m \u001b[1m0s\u001b[0m 69ms/step - accuracy: 0.9779 - loss: 0.1063\n",
            "Epoch 43/50\n",
            "\u001b[1m3/3\u001b[0m \u001b[32m━━━━━━━━━━━━━━━━━━━━\u001b[0m\u001b[37m\u001b[0m \u001b[1m0s\u001b[0m 82ms/step - accuracy: 0.9948 - loss: 0.0775\n",
            "Epoch 44/50\n",
            "\u001b[1m3/3\u001b[0m \u001b[32m━━━━━━━━━━━━━━━━━━━━\u001b[0m\u001b[37m\u001b[0m \u001b[1m0s\u001b[0m 74ms/step - accuracy: 1.0000 - loss: 0.0710\n",
            "Epoch 45/50\n",
            "\u001b[1m3/3\u001b[0m \u001b[32m━━━━━━━━━━━━━━━━━━━━\u001b[0m\u001b[37m\u001b[0m \u001b[1m0s\u001b[0m 71ms/step - accuracy: 1.0000 - loss: 0.0685\n",
            "Epoch 46/50\n",
            "\u001b[1m3/3\u001b[0m \u001b[32m━━━━━━━━━━━━━━━━━━━━\u001b[0m\u001b[37m\u001b[0m \u001b[1m0s\u001b[0m 78ms/step - accuracy: 1.0000 - loss: 0.0539\n",
            "Epoch 47/50\n",
            "\u001b[1m3/3\u001b[0m \u001b[32m━━━━━━━━━━━━━━━━━━━━\u001b[0m\u001b[37m\u001b[0m \u001b[1m0s\u001b[0m 95ms/step - accuracy: 1.0000 - loss: 0.0634\n",
            "Epoch 48/50\n",
            "\u001b[1m3/3\u001b[0m \u001b[32m━━━━━━━━━━━━━━━━━━━━\u001b[0m\u001b[37m\u001b[0m \u001b[1m0s\u001b[0m 122ms/step - accuracy: 1.0000 - loss: 0.0517\n",
            "Epoch 49/50\n",
            "\u001b[1m3/3\u001b[0m \u001b[32m━━━━━━━━━━━━━━━━━━━━\u001b[0m\u001b[37m\u001b[0m \u001b[1m0s\u001b[0m 131ms/step - accuracy: 1.0000 - loss: 0.0473\n",
            "Epoch 50/50\n",
            "\u001b[1m3/3\u001b[0m \u001b[32m━━━━━━━━━━━━━━━━━━━━\u001b[0m\u001b[37m\u001b[0m \u001b[1m0s\u001b[0m 121ms/step - accuracy: 1.0000 - loss: 0.0398\n"
          ]
        },
        {
          "output_type": "execute_result",
          "data": {
            "text/plain": [
              "<keras.src.callbacks.history.History at 0x7f8eb6405ab0>"
            ]
          },
          "metadata": {},
          "execution_count": 207
        }
      ]
    },
    {
      "cell_type": "code",
      "source": [
        "from tensorflow.keras.preprocessing.sequence import pad_sequences\n",
        "import numpy as np\n",
        "\n",
        "test_sentence = [\n",
        "    \"i had a terrible experience \"\n",
        "]\n",
        "\n",
        "test_sequence = tokenizer.texts_to_sequences(test_sentence)\n",
        "\n",
        "pad_test = pad_sequences( test_sequence , maxlen = max_len, padding = 'post')\n",
        "\n",
        "test = np.array(pad_test)\n",
        "\n",
        "\n",
        "classification = model.predict(test)\n",
        "print(classification)"
      ],
      "metadata": {
        "colab": {
          "base_uri": "https://localhost:8080/"
        },
        "id": "UFCeHGD7sebv",
        "outputId": "51c22c61-555c-4e61-9866-0aaf349c7b82"
      },
      "execution_count": 211,
      "outputs": [
        {
          "output_type": "stream",
          "name": "stdout",
          "text": [
            "\u001b[1m1/1\u001b[0m \u001b[32m━━━━━━━━━━━━━━━━━━━━\u001b[0m\u001b[37m\u001b[0m \u001b[1m0s\u001b[0m 33ms/step\n",
            "[[0.0431421]]\n"
          ]
        }
      ]
    }
  ]
}